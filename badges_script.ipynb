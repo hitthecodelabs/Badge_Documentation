{
 "cells": [
  {
   "cell_type": "markdown",
   "id": "6312dc24-9095-439c-ad8d-386accb7d0e1",
   "metadata": {},
   "source": [
    "## Reading Badge URLs from File"
   ]
  },
  {
   "cell_type": "code",
   "execution_count": 24,
   "id": "c5354803-d805-4353-9210-f73c9eef9afe",
   "metadata": {
    "tags": []
   },
   "outputs": [
    {
     "name": "stdout",
     "output_type": "stream",
     "text": [
      "Total number of badge links: 70\n"
     ]
    }
   ],
   "source": [
    "# Open the file containing badge URLs and read all the lines\n",
    "with open(\"badges.txt\", mode='r') as A:\n",
    "    lines = A.readlines()\n",
    "\n",
    "# Print the total number of lines (links) read from the file\n",
    "print(f\"Total number of badge links: {len(lines)}\")"
   ]
  },
  {
   "cell_type": "markdown",
   "id": "a06ed19a-2e05-400f-b4f8-84e1d5885ac7",
   "metadata": {},
   "source": [
    "## Removing Duplicates"
   ]
  },
  {
   "cell_type": "code",
   "execution_count": 25,
   "id": "5c386496-2ff9-430f-8321-b97e949b7765",
   "metadata": {
    "tags": []
   },
   "outputs": [
    {
     "name": "stdout",
     "output_type": "stream",
     "text": [
      "Number of unique badge links: 66\n"
     ]
    }
   ],
   "source": [
    "# Initialize an empty list to store unique badge links\n",
    "lines_unique = []\n",
    "\n",
    "# Loop through each line and append it to the unique list only if it's not already present\n",
    "for line in lines:\n",
    "    if line not in lines_unique:\n",
    "        lines_unique.append(line)\n",
    "\n",
    "# Print the updated number of unique badge links\n",
    "print(f\"Number of unique badge links: {len(lines_unique)}\")"
   ]
  },
  {
   "cell_type": "markdown",
   "id": "4feae07f-9d72-4a8a-8df2-62ad155ac9d3",
   "metadata": {},
   "source": [
    "## HTML Template for Badges"
   ]
  },
  {
   "cell_type": "code",
   "execution_count": 26,
   "id": "66876ded-732b-4b72-a9cc-43cad5c0a53f",
   "metadata": {
    "tags": []
   },
   "outputs": [
    {
     "data": {
      "text/plain": [
       "''"
      ]
     },
     "execution_count": 26,
     "metadata": {},
     "output_type": "execute_result"
    }
   ],
   "source": [
    "# HTML template for displaying badges on a webpage\n",
    "'''\n",
    "  <!-- Badge Container -->\n",
    "  <div class=\"badge-container\">\n",
    "    <img src=\"URL_of_first_badge\" alt=\"First Badge\">\n",
    "    <img src=\"URL_of_second_badge\" alt=\"Second Badge\">\n",
    "    <!-- Add more badges here -->\n",
    "  </div>\n",
    "'''\n",
    "''"
   ]
  },
  {
   "cell_type": "markdown",
   "id": "6eaea190-5160-440b-8dfb-093de80a2359",
   "metadata": {},
   "source": [
    "## Preview First Badge"
   ]
  },
  {
   "cell_type": "code",
   "execution_count": 27,
   "id": "38d8c873-8f8e-48f2-b5e1-8d44d77ffc67",
   "metadata": {
    "tags": []
   },
   "outputs": [
    {
     "name": "stdout",
     "output_type": "stream",
     "text": [
      "Sample badge: ![NPM](https://img.shields.io/badge/NPM-%23CB3837.svg?style=for-the-badge&logo=npm&logoColor=white)\n",
      "\n"
     ]
    }
   ],
   "source": [
    "# Print the first badge URL to give a sample of what the data looks like\n",
    "print(f\"Sample badge: {lines_unique[0]}\")"
   ]
  },
  {
   "cell_type": "markdown",
   "id": "ebc5941b-3229-4515-bd2e-79fcaf70742b",
   "metadata": {},
   "source": [
    "## Formatting Badge Links into HTML Tags"
   ]
  },
  {
   "cell_type": "code",
   "execution_count": 28,
   "id": "df1f9033-faeb-4003-a67e-3c396d584988",
   "metadata": {
    "tags": []
   },
   "outputs": [
    {
     "name": "stdout",
     "output_type": "stream",
     "text": [
      "<img src=\"https://img.shields.io/badge/NPM-%23CB3837.svg?style=for-the-badge&logo=npm&logoColor=white\" alt=\"NPM\">\n",
      "<img src=\"https://img.shields.io/badge/node.js-6DA55F.svg?style=for-the-badge&logo=node.js&logoColor=white\" alt=\"Node.js\">\n",
      "<img src=\"https://img.shields.io/badge/opencv-%23white.svg?style=for-the-badge&logo=opencv&logoColor=white\" alt=\"OpenCV\">\n",
      "<img src=\"https://img.shields.io/badge/Qt-%23217346.svg?style=for-the-badge&logo=Qt&logoColor=white\" alt=\"Qt\">\n",
      "<img src=\"https://img.shields.io/badge/react-%2320232a.svg?style=for-the-badge&logo=react&logoColor=%2361DAFB\" alt=\"React\">\n",
      "<img src=\"https://img.shields.io/badge/vue.js-%2335495e.svg?style=for-the-badge&logo=vuedotjs&logoColor=%234FC08D\" alt=\"Vue.js\">\n",
      "<img src=\"https://img.shields.io/badge/web3.js-F16822.svg?style=for-the-badge&logo=web3.js&logoColor=white\" alt=\"Web3.js\">\n",
      "<img src=\"https://img.shields.io/badge/Anaconda-%2344A833.svg?style=for-the-badge&logo=anaconda&logoColor=white\" alt=\"Anaconda\">\n",
      "<img src=\"https://img.shields.io/badge/Apache%20Spark-FDEE21.svg?style=for-the-badge&logo=apachespark&logoColor=black\" alt=\"Apache Spark\">\n",
      "<img src=\"https://img.shields.io/badge/bootstrap-%235311FA.svg?style=for-the-badge&logo=bootstrap&logoColor=white\" alt=\"Bootstrap\">\n",
      "<img src=\"https://img.shields.io/badge/chart.js-F5788D.svg?style=for-the-badge&logo=chart.js&logoColor=white\" alt=\"Chart.js\">\n",
      "<img src=\"https://img.shields.io/badge/django-%23092E20.svg?style=for-the-badge&logo=django&logoColor=white\" alt=\"Django\">\n",
      "<img src=\"https://img.shields.io/badge/flask-%23000.svg?style=for-the-badge&logo=flask&logoColor=white\" alt=\"Flask\">\n",
      "<img src=\"https://img.shields.io/badge/Kaggle-035a7d.svg?style=for-the-badge&logo=kaggle&logoColor=white\" alt=\"Kaggle\">\n",
      "<img src=\"https://img.shields.io/badge/PayPal-00457C.svg?style=for-the-badge&logo=paypal&logoColor=white\" alt=\"PayPal\">\n",
      "<img src=\"https://img.shields.io/badge/Google%20Drive-4285F4.svg?style=for-the-badge&logo=googledrive&logoColor=white\" alt=\"Google Drive\">\n",
      "<img src=\"https://img.shields.io/badge/Bitcoin-000.svg?style=for-the-badge&logo=bitcoin&logoColor=white\" alt=\"Bitcoin\">\n",
      "<img src=\"https://img.shields.io/badge/Ethereum-3C3C3D.svg?style=for-the-badge&logo=Ethereum&logoColor=white\" alt=\"Ethereum\">\n",
      "<img src=\"https://img.shields.io/badge/tether-168363.svg?style=for-the-badge&logo=tether&logoColor=white\" alt=\"Tether\">\n",
      "<img src=\"https://img.shields.io/badge/mysql-%2300000f.svg?style=for-the-badge&logo=mysql&logoColor=white\" alt=\"MySQL\">\n",
      "<img src=\"https://img.shields.io/badge/postgres-%23316192.svg?style=for-the-badge&logo=postgresql&logoColor=white\" alt=\"Postgres\">\n",
      "<img src=\"https://img.shields.io/badge/Kaggle-035a7d?style=for-the-badge&logo=kaggle&logoColor=white\" alt=\"Kaggle\">\n",
      "<img src=\"https://img.shields.io/badge/edX-%2302262B.svg?style=for-the-badge&logo=edX&logoColor=white\" alt=\"edX\">\n",
      "<img src=\"https://img.shields.io/badge/GeeksforGeeks-gray?style=for-the-badge&logo=geeksforgeeks&logoColor=35914c\" alt=\"GeeksForGeeks\">\n",
      "<img src=\"https://img.shields.io/badge/Apache%20Spark-FDEE21?style=flat-square&logo=apachespark&logoColor=black\" alt=\"Apache Spark\">\n",
      "<img src=\"https://img.shields.io/badge/bootstrap-%238511FA.svg?style=for-the-badge&logo=bootstrap&logoColor=white\" alt=\"Bootstrap\">\n",
      "<img src=\"https://img.shields.io/badge/node.js-6DA55F?style=for-the-badge&logo=node.js&logoColor=white\" alt=\"NodeJS\">\n",
      "<img src=\"https://img.shields.io/badge/GoogleCloud-%234285F4.svg?style=for-the-badge&logo=google-cloud&logoColor=white\" alt=\"Google Cloud\">\n",
      "<img src=\"https://img.shields.io/badge/jupyter-%23FA0F00.svg?style=for-the-badge&logo=jupyter&logoColor=white\" alt=\"Jupyter Notebook\">\n",
      "<img src=\"https://img.shields.io/badge/Notepad++-90E59A.svg?style=for-the-badge&logo=notepad%2b%2b&logoColor=black\" alt=\"Notepad++\">\n",
      "<img src=\"https://img.shields.io/badge/pycharm-143?style=for-the-badge&logo=pycharm&logoColor=black&color=black&labelColor=green\" alt=\"PyCharm\">\n",
      "<img src=\"https://img.shields.io/badge/Replit-DD1200?style=for-the-badge&logo=Replit&logoColor=white\" alt=\"Replit\">\n",
      "<img src=\"https://img.shields.io/badge/RStudio-4285F4?style=for-the-badge&logo=rstudio&logoColor=white\" alt=\"RStudio\">\n",
      "<img src=\"https://img.shields.io/badge/css3-%231572B6.svg?style=for-the-badge&logo=css3&logoColor=white\" alt=\"CSS3\">\n",
      "<img src=\"https://img.shields.io/badge/html5-%23E34F26.svg?style=for-the-badge&logo=html5&logoColor=white\" alt=\"HTML5\">\n",
      "<img src=\"https://img.shields.io/badge/javascript-%23323330.svg?style=for-the-badge&logo=javascript&logoColor=%23F7DF1E\" alt=\"JavaScript\">\n",
      "<img src=\"https://img.shields.io/badge/latex-%23008080.svg?style=for-the-badge&logo=latex&logoColor=white\" alt=\"LaTeX\">\n",
      "<img src=\"https://img.shields.io/badge/markdown-%23000000.svg?style=for-the-badge&logo=markdown&logoColor=white\" alt=\"Markdown\">\n",
      "<img src=\"https://img.shields.io/badge/php-%23777BB4.svg?style=for-the-badge&logo=php&logoColor=white\" alt=\"PHP\">\n",
      "<img src=\"https://img.shields.io/badge/python-3670A0?style=for-the-badge&logo=python&logoColor=ffdd54\" alt=\"Python\">\n",
      "<img src=\"https://img.shields.io/badge/r-%23276DC3.svg?style=for-the-badge&logo=r&logoColor=white\" alt=\"R\">\n",
      "<img src=\"https://img.shields.io/badge/Solidity-%23363636.svg?style=for-the-badge&logo=solidity&logoColor=white\" alt=\"Solidity\">\n",
      "<img src=\"https://img.shields.io/badge/typescript-%23007ACC.svg?style=for-the-badge&logo=typescript&logoColor=white\" alt=\"TypeScript\">\n",
      "<img src=\"https://img.shields.io/badge/Keras-%23D00000.svg?style=for-the-badge&logo=Keras&logoColor=white\" alt=\"Keras\">\n",
      "<img src=\"https://img.shields.io/badge/Matplotlib-%23ffffff.svg?style=for-the-badge&logo=Matplotlib&logoColor=black\" alt=\"Matplotlib\">\n",
      "<img src=\"https://img.shields.io/badge/numpy-%23013243.svg?style=for-the-badge&logo=numpy&logoColor=white\" alt=\"NumPy\">\n",
      "<img src=\"https://img.shields.io/badge/pandas-%23150458.svg?style=for-the-badge&logo=pandas&logoColor=white\" alt=\"Pandas\">\n",
      "<img src=\"https://img.shields.io/badge/Plotly-%233F4F75.svg?style=for-the-badge&logo=plotly&logoColor=white\" alt=\"Plotly\">\n",
      "<img src=\"https://img.shields.io/badge/PyTorch-%23EE4C2C.svg?style=for-the-badge&logo=PyTorch&logoColor=white\" alt=\"PyTorch\">\n",
      "<img src=\"https://img.shields.io/badge/scikit--learn-%23F7931E.svg?style=for-the-badge&logo=scikit-learn&logoColor=white\" alt=\"scikit-learn\">\n",
      "<img src=\"https://img.shields.io/badge/SciPy-%230C55A5.svg?style=for-the-badge&logo=scipy&logoColor=%white\" alt=\"SciPy\">\n",
      "<img src=\"https://img.shields.io/badge/TensorFlow-%23FF6F00.svg?style=for-the-badge&logo=TensorFlow&logoColor=white\" alt=\"TensorFlow\">\n",
      "<img src=\"https://img.shields.io/badge/Linux-FCC624?style=for-the-badge&logo=linux&logoColor=black\" alt=\"Linux\">\n",
      "<img src=\"https://img.shields.io/badge/Ubuntu-E95420?style=for-the-badge&logo=ubuntu&logoColor=white\" alt=\"Ubuntu\">\n",
      "<img src=\"https://img.shields.io/badge/Windows-0078D6?style=for-the-badge&logo=windows&logoColor=white\" alt=\"Windows\">\n",
      "<img src=\"https://img.shields.io/badge/docker-%230db7ed.svg?style=for-the-badge&logo=docker&logoColor=white\" alt=\"Docker\">\n",
      "<img src=\"https://img.shields.io/badge/kubernetes-%23326ce5.svg?style=for-the-badge&logo=kubernetes&logoColor=white\" alt=\"Kubernetes\">\n",
      "<img src=\"https://img.shields.io/badge/Notion-%23000000.svg?style=for-the-badge&logo=notion&logoColor=white\" alt=\"Notion\">\n",
      "<img src=\"https://img.shields.io/badge/-RaspberryPi-C51A4A?style=for-the-badge&logo=Raspberry-Pi\" alt=\"Raspberry Pi\">\n",
      "<img src=\"https://img.shields.io/badge/google-4285F4?style=for-the-badge&logo=google&logoColor=white\" alt=\"Google\">\n",
      "<img src=\"https://img.shields.io/badge/gunicorn-%298729.svg?style=for-the-badge&logo=gunicorn&logoColor=white\" alt=\"Gunicorn\">\n",
      "<img src=\"https://img.shields.io/badge/nginx-%23009639.svg?style=for-the-badge&logo=nginx&logoColor=white\" alt=\"Nginx\">\n",
      "<img src=\"https://img.shields.io/badge/linkedin-%230077B5.svg?style=for-the-badge&logo=linkedin&logoColor=white\" alt=\"LinkedIn\">\n",
      "<img src=\"https://img.shields.io/badge/Telegram-2CA5E0?style=for-the-badge&logo=telegram&logoColor=white\" alt=\"Telegram\">\n",
      "<img src=\"https://img.shields.io/badge/git-%23F05033.svg?style=for-the-badge&logo=git&logoColor=white\" alt=\"Git\">\n",
      "<img src=\"https://img.shields.io/badge/github-%23121011.svg?style=for-the-badge&logo=github&logoColor=white\" alt=\"GitHub\">\n"
     ]
    }
   ],
   "source": [
    "# Initialize an empty list to store the HTML-formatted badges\n",
    "lines_2 = []\n",
    "\n",
    "# Loop through each unique badge URL and convert it into an HTML <img> tag\n",
    "for line in lines_unique:\n",
    "    clean_line = line.strip()  # Remove leading and trailing whitespaces (like newlines)\n",
    "    \n",
    "    # Extract the actual URL and badge name from the line\n",
    "    url = clean_line.split(\"(\")[-1][:-1]\n",
    "    b_name = clean_line.split(\"[\")[-1].split(\"]\")[0]\n",
    "    \n",
    "    # Format into an HTML <img> tag\n",
    "    new_line = f'<img src=\"{url}\" alt=\"{b_name}\">'\n",
    "    print(new_line)\n",
    "    \n",
    "    # Append the badge name and HTML-formatted line to the list\n",
    "    lines_2.append([b_name, new_line])"
   ]
  },
  {
   "cell_type": "markdown",
   "id": "89df1e5c-1a65-49bf-821f-fefc73d7ef11",
   "metadata": {},
   "source": [
    "## Sort Badges Alphabetically"
   ]
  },
  {
   "cell_type": "code",
   "execution_count": 29,
   "id": "20a4c9fa-e95b-4e5d-aab4-3907ae4ceb44",
   "metadata": {
    "tags": []
   },
   "outputs": [],
   "source": [
    "# Sort the badges alphabetically based on their names\n",
    "lines_2.sort()"
   ]
  },
  {
   "cell_type": "markdown",
   "id": "bb3d6d92-7440-4038-822c-61677c295423",
   "metadata": {},
   "source": [
    "## Display Sorted Badges in HTML Format"
   ]
  },
  {
   "cell_type": "code",
   "execution_count": 30,
   "id": "db6d1803-3b82-4272-94a7-9b0ab7498b25",
   "metadata": {
    "tags": []
   },
   "outputs": [
    {
     "name": "stdout",
     "output_type": "stream",
     "text": [
      "<img src=\"https://img.shields.io/badge/Anaconda-%2344A833.svg?style=for-the-badge&logo=anaconda&logoColor=white\" alt=\"Anaconda\">\n",
      "<img src=\"https://img.shields.io/badge/Apache%20Spark-FDEE21.svg?style=for-the-badge&logo=apachespark&logoColor=black\" alt=\"Apache Spark\">\n",
      "<img src=\"https://img.shields.io/badge/Apache%20Spark-FDEE21?style=flat-square&logo=apachespark&logoColor=black\" alt=\"Apache Spark\">\n",
      "<img src=\"https://img.shields.io/badge/Bitcoin-000.svg?style=for-the-badge&logo=bitcoin&logoColor=white\" alt=\"Bitcoin\">\n",
      "<img src=\"https://img.shields.io/badge/bootstrap-%235311FA.svg?style=for-the-badge&logo=bootstrap&logoColor=white\" alt=\"Bootstrap\">\n",
      "<img src=\"https://img.shields.io/badge/bootstrap-%238511FA.svg?style=for-the-badge&logo=bootstrap&logoColor=white\" alt=\"Bootstrap\">\n",
      "<img src=\"https://img.shields.io/badge/css3-%231572B6.svg?style=for-the-badge&logo=css3&logoColor=white\" alt=\"CSS3\">\n",
      "<img src=\"https://img.shields.io/badge/chart.js-F5788D.svg?style=for-the-badge&logo=chart.js&logoColor=white\" alt=\"Chart.js\">\n",
      "<img src=\"https://img.shields.io/badge/django-%23092E20.svg?style=for-the-badge&logo=django&logoColor=white\" alt=\"Django\">\n",
      "<img src=\"https://img.shields.io/badge/docker-%230db7ed.svg?style=for-the-badge&logo=docker&logoColor=white\" alt=\"Docker\">\n",
      "<img src=\"https://img.shields.io/badge/Ethereum-3C3C3D.svg?style=for-the-badge&logo=Ethereum&logoColor=white\" alt=\"Ethereum\">\n",
      "<img src=\"https://img.shields.io/badge/flask-%23000.svg?style=for-the-badge&logo=flask&logoColor=white\" alt=\"Flask\">\n",
      "<img src=\"https://img.shields.io/badge/GeeksforGeeks-gray?style=for-the-badge&logo=geeksforgeeks&logoColor=35914c\" alt=\"GeeksForGeeks\">\n",
      "<img src=\"https://img.shields.io/badge/git-%23F05033.svg?style=for-the-badge&logo=git&logoColor=white\" alt=\"Git\">\n",
      "<img src=\"https://img.shields.io/badge/github-%23121011.svg?style=for-the-badge&logo=github&logoColor=white\" alt=\"GitHub\">\n",
      "<img src=\"https://img.shields.io/badge/google-4285F4?style=for-the-badge&logo=google&logoColor=white\" alt=\"Google\">\n",
      "<img src=\"https://img.shields.io/badge/GoogleCloud-%234285F4.svg?style=for-the-badge&logo=google-cloud&logoColor=white\" alt=\"Google Cloud\">\n",
      "<img src=\"https://img.shields.io/badge/Google%20Drive-4285F4.svg?style=for-the-badge&logo=googledrive&logoColor=white\" alt=\"Google Drive\">\n",
      "<img src=\"https://img.shields.io/badge/gunicorn-%298729.svg?style=for-the-badge&logo=gunicorn&logoColor=white\" alt=\"Gunicorn\">\n",
      "<img src=\"https://img.shields.io/badge/html5-%23E34F26.svg?style=for-the-badge&logo=html5&logoColor=white\" alt=\"HTML5\">\n",
      "<img src=\"https://img.shields.io/badge/javascript-%23323330.svg?style=for-the-badge&logo=javascript&logoColor=%23F7DF1E\" alt=\"JavaScript\">\n",
      "<img src=\"https://img.shields.io/badge/jupyter-%23FA0F00.svg?style=for-the-badge&logo=jupyter&logoColor=white\" alt=\"Jupyter Notebook\">\n",
      "<img src=\"https://img.shields.io/badge/Kaggle-035a7d.svg?style=for-the-badge&logo=kaggle&logoColor=white\" alt=\"Kaggle\">\n",
      "<img src=\"https://img.shields.io/badge/Kaggle-035a7d?style=for-the-badge&logo=kaggle&logoColor=white\" alt=\"Kaggle\">\n",
      "<img src=\"https://img.shields.io/badge/Keras-%23D00000.svg?style=for-the-badge&logo=Keras&logoColor=white\" alt=\"Keras\">\n",
      "<img src=\"https://img.shields.io/badge/kubernetes-%23326ce5.svg?style=for-the-badge&logo=kubernetes&logoColor=white\" alt=\"Kubernetes\">\n",
      "<img src=\"https://img.shields.io/badge/latex-%23008080.svg?style=for-the-badge&logo=latex&logoColor=white\" alt=\"LaTeX\">\n",
      "<img src=\"https://img.shields.io/badge/linkedin-%230077B5.svg?style=for-the-badge&logo=linkedin&logoColor=white\" alt=\"LinkedIn\">\n",
      "<img src=\"https://img.shields.io/badge/Linux-FCC624?style=for-the-badge&logo=linux&logoColor=black\" alt=\"Linux\">\n",
      "<img src=\"https://img.shields.io/badge/markdown-%23000000.svg?style=for-the-badge&logo=markdown&logoColor=white\" alt=\"Markdown\">\n",
      "<img src=\"https://img.shields.io/badge/Matplotlib-%23ffffff.svg?style=for-the-badge&logo=Matplotlib&logoColor=black\" alt=\"Matplotlib\">\n",
      "<img src=\"https://img.shields.io/badge/mysql-%2300000f.svg?style=for-the-badge&logo=mysql&logoColor=white\" alt=\"MySQL\">\n",
      "<img src=\"https://img.shields.io/badge/NPM-%23CB3837.svg?style=for-the-badge&logo=npm&logoColor=white\" alt=\"NPM\">\n",
      "<img src=\"https://img.shields.io/badge/nginx-%23009639.svg?style=for-the-badge&logo=nginx&logoColor=white\" alt=\"Nginx\">\n",
      "<img src=\"https://img.shields.io/badge/node.js-6DA55F.svg?style=for-the-badge&logo=node.js&logoColor=white\" alt=\"Node.js\">\n",
      "<img src=\"https://img.shields.io/badge/node.js-6DA55F?style=for-the-badge&logo=node.js&logoColor=white\" alt=\"NodeJS\">\n",
      "<img src=\"https://img.shields.io/badge/Notepad++-90E59A.svg?style=for-the-badge&logo=notepad%2b%2b&logoColor=black\" alt=\"Notepad++\">\n",
      "<img src=\"https://img.shields.io/badge/Notion-%23000000.svg?style=for-the-badge&logo=notion&logoColor=white\" alt=\"Notion\">\n",
      "<img src=\"https://img.shields.io/badge/numpy-%23013243.svg?style=for-the-badge&logo=numpy&logoColor=white\" alt=\"NumPy\">\n",
      "<img src=\"https://img.shields.io/badge/opencv-%23white.svg?style=for-the-badge&logo=opencv&logoColor=white\" alt=\"OpenCV\">\n",
      "<img src=\"https://img.shields.io/badge/php-%23777BB4.svg?style=for-the-badge&logo=php&logoColor=white\" alt=\"PHP\">\n",
      "<img src=\"https://img.shields.io/badge/pandas-%23150458.svg?style=for-the-badge&logo=pandas&logoColor=white\" alt=\"Pandas\">\n",
      "<img src=\"https://img.shields.io/badge/PayPal-00457C.svg?style=for-the-badge&logo=paypal&logoColor=white\" alt=\"PayPal\">\n",
      "<img src=\"https://img.shields.io/badge/Plotly-%233F4F75.svg?style=for-the-badge&logo=plotly&logoColor=white\" alt=\"Plotly\">\n",
      "<img src=\"https://img.shields.io/badge/postgres-%23316192.svg?style=for-the-badge&logo=postgresql&logoColor=white\" alt=\"Postgres\">\n",
      "<img src=\"https://img.shields.io/badge/pycharm-143?style=for-the-badge&logo=pycharm&logoColor=black&color=black&labelColor=green\" alt=\"PyCharm\">\n",
      "<img src=\"https://img.shields.io/badge/PyTorch-%23EE4C2C.svg?style=for-the-badge&logo=PyTorch&logoColor=white\" alt=\"PyTorch\">\n",
      "<img src=\"https://img.shields.io/badge/python-3670A0?style=for-the-badge&logo=python&logoColor=ffdd54\" alt=\"Python\">\n",
      "<img src=\"https://img.shields.io/badge/Qt-%23217346.svg?style=for-the-badge&logo=Qt&logoColor=white\" alt=\"Qt\">\n",
      "<img src=\"https://img.shields.io/badge/r-%23276DC3.svg?style=for-the-badge&logo=r&logoColor=white\" alt=\"R\">\n",
      "<img src=\"https://img.shields.io/badge/RStudio-4285F4?style=for-the-badge&logo=rstudio&logoColor=white\" alt=\"RStudio\">\n",
      "<img src=\"https://img.shields.io/badge/-RaspberryPi-C51A4A?style=for-the-badge&logo=Raspberry-Pi\" alt=\"Raspberry Pi\">\n",
      "<img src=\"https://img.shields.io/badge/react-%2320232a.svg?style=for-the-badge&logo=react&logoColor=%2361DAFB\" alt=\"React\">\n",
      "<img src=\"https://img.shields.io/badge/Replit-DD1200?style=for-the-badge&logo=Replit&logoColor=white\" alt=\"Replit\">\n",
      "<img src=\"https://img.shields.io/badge/SciPy-%230C55A5.svg?style=for-the-badge&logo=scipy&logoColor=%white\" alt=\"SciPy\">\n",
      "<img src=\"https://img.shields.io/badge/Solidity-%23363636.svg?style=for-the-badge&logo=solidity&logoColor=white\" alt=\"Solidity\">\n",
      "<img src=\"https://img.shields.io/badge/Telegram-2CA5E0?style=for-the-badge&logo=telegram&logoColor=white\" alt=\"Telegram\">\n",
      "<img src=\"https://img.shields.io/badge/TensorFlow-%23FF6F00.svg?style=for-the-badge&logo=TensorFlow&logoColor=white\" alt=\"TensorFlow\">\n",
      "<img src=\"https://img.shields.io/badge/tether-168363.svg?style=for-the-badge&logo=tether&logoColor=white\" alt=\"Tether\">\n",
      "<img src=\"https://img.shields.io/badge/typescript-%23007ACC.svg?style=for-the-badge&logo=typescript&logoColor=white\" alt=\"TypeScript\">\n",
      "<img src=\"https://img.shields.io/badge/Ubuntu-E95420?style=for-the-badge&logo=ubuntu&logoColor=white\" alt=\"Ubuntu\">\n",
      "<img src=\"https://img.shields.io/badge/vue.js-%2335495e.svg?style=for-the-badge&logo=vuedotjs&logoColor=%234FC08D\" alt=\"Vue.js\">\n",
      "<img src=\"https://img.shields.io/badge/web3.js-F16822.svg?style=for-the-badge&logo=web3.js&logoColor=white\" alt=\"Web3.js\">\n",
      "<img src=\"https://img.shields.io/badge/Windows-0078D6?style=for-the-badge&logo=windows&logoColor=white\" alt=\"Windows\">\n",
      "<img src=\"https://img.shields.io/badge/edX-%2302262B.svg?style=for-the-badge&logo=edX&logoColor=white\" alt=\"edX\">\n",
      "<img src=\"https://img.shields.io/badge/scikit--learn-%23F7931E.svg?style=for-the-badge&logo=scikit-learn&logoColor=white\" alt=\"scikit-learn\">\n"
     ]
    }
   ],
   "source": [
    "# Print the HTML-formatted badges\n",
    "for name, line in lines_2:\n",
    "    print(line)"
   ]
  },
  {
   "cell_type": "markdown",
   "id": "2b680327-bfdf-4536-a949-cdf275d429c8",
   "metadata": {},
   "source": [
    "## Display Sorted Badge Names"
   ]
  },
  {
   "cell_type": "code",
   "execution_count": 31,
   "id": "91a2a535-3b1b-4e80-a97a-e39df282a369",
   "metadata": {
    "tags": []
   },
   "outputs": [
    {
     "name": "stdout",
     "output_type": "stream",
     "text": [
      "Anaconda | Apache Spark | Apache Spark | Bitcoin | Bootstrap | Bootstrap | CSS3 | Chart.js | Django | Docker | Ethereum | Flask | GeeksForGeeks | Git | GitHub | Google | Google Cloud | Google Drive | Gunicorn | HTML5 | JavaScript | Jupyter Notebook | Kaggle | Kaggle | Keras | Kubernetes | LaTeX | LinkedIn | Linux | Markdown | Matplotlib | MySQL | NPM | Nginx | Node.js | NodeJS | Notepad++ | Notion | NumPy | OpenCV | PHP | Pandas | PayPal | Plotly | Postgres | PyCharm | PyTorch | Python | Qt | R | RStudio | Raspberry Pi | React | Replit | SciPy | Solidity | Telegram | TensorFlow | Tether | TypeScript | Ubuntu | Vue.js | Web3.js | Windows | edX | scikit-learn | "
     ]
    }
   ],
   "source": [
    "# Print the badge names, sorted alphabetically and separated by a pipe character\n",
    "for badge, line in lines_2:\n",
    "    print(badge, end=\" | \")"
   ]
  },
  {
   "cell_type": "code",
   "execution_count": null,
   "id": "a709776a-c50a-41c8-a1d6-49234b615384",
   "metadata": {},
   "outputs": [],
   "source": []
  }
 ],
 "metadata": {
  "kernelspec": {
   "display_name": "Python 3 (ipykernel)",
   "language": "python",
   "name": "python3"
  },
  "language_info": {
   "codemirror_mode": {
    "name": "ipython",
    "version": 3
   },
   "file_extension": ".py",
   "mimetype": "text/x-python",
   "name": "python",
   "nbconvert_exporter": "python",
   "pygments_lexer": "ipython3",
   "version": "3.11.3"
  }
 },
 "nbformat": 4,
 "nbformat_minor": 5
}
